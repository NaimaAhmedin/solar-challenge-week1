{
 "cells": [
  {
   "cell_type": "code",
   "execution_count": null,
   "metadata": {
    "vscode": {
     "languageId": "plaintext"
    }
   },
   "outputs": [],
   "source": [
    "import pandas as pd\n",
    "import matplotlib.pyplot as plt\n",
    "import seaborn as sns\n",
    "from scipy.stats import f_oneway, kruskal\n",
    "\n",
    "%matplotlib inline\n",
    "sns.set(style=\"whitegrid\")\n"
   ]
  },
  {
   "cell_type": "code",
   "execution_count": null,
   "metadata": {
    "vscode": {
     "languageId": "plaintext"
    }
   },
   "outputs": [],
   "source": [
    "benin = pd.read_csv('../data/benin_clean.csv')\n",
    "sierra_leone = pd.read_csv('../data/sierra_leone_clean.csv')\n",
    "togo = pd.read_csv('../data/togo_clean.csv')\n",
    "\n",
    "benin['Country'] = 'Benin'\n",
    "sierra_leone['Country'] = 'Sierra Leone'\n",
    "togo['Country'] = 'Togo'\n",
    "\n",
    "df = pd.concat([benin, sierra_leone, togo], ignore_index=True)\n"
   ]
  },
  {
   "cell_type": "code",
   "execution_count": null,
   "metadata": {
    "vscode": {
     "languageId": "plaintext"
    }
   },
   "outputs": [],
   "source": [
    "plt.figure(figsize=(16, 5))\n",
    "for i, var in enumerate(['GHI', 'DNI', 'DHI']):\n",
    "    plt.subplot(1, 3, i+1)\n",
    "    sns.boxplot(data=df, x='Country', y=var, palette=\"Set2\")\n",
    "    plt.title(f'{var} Distribution by Country')\n",
    "plt.tight_layout()\n",
    "plt.show()\n"
   ]
  },
  {
   "cell_type": "code",
   "execution_count": null,
   "metadata": {
    "vscode": {
     "languageId": "plaintext"
    }
   },
   "outputs": [],
   "source": [
    "metrics = ['GHI', 'DNI', 'DHI']\n",
    "summary = df.groupby('Country')[metrics].agg(['mean', 'median', 'std']).round(2)\n",
    "summary\n"
   ]
  },
  {
   "cell_type": "code",
   "execution_count": null,
   "metadata": {
    "vscode": {
     "languageId": "plaintext"
    }
   },
   "outputs": [],
   "source": [
    "ghi_groups = [benin['GHI'].dropna(), sierra_leone['GHI'].dropna(), togo['GHI'].dropna()]\n",
    "anova_result = f_oneway(*ghi_groups)\n",
    "print(f\"ANOVA result: F = {anova_result.statistic:.2f}, p = {anova_result.pvalue:.4f}\")\n",
    "\n",
    "kruskal_result = kruskal(*ghi_groups)\n",
    "print(f\"Kruskal-Wallis result: H = {kruskal_result.statistic:.2f}, p = {kruskal_result.pvalue:.4f}\")\n"
   ]
  },
  {
   "cell_type": "code",
   "execution_count": null,
   "metadata": {
    "vscode": {
     "languageId": "plaintext"
    }
   },
   "outputs": [],
   "source": [
    "plt.figure(figsize=(6, 4))\n",
    "sns.barplot(data=df, x='Country', y='GHI', estimator='mean', ci='sd', palette='pastel')\n",
    "plt.title('Average GHI by Country')\n",
    "plt.ylabel('Mean GHI')\n",
    "plt.show()\n"
   ]
  },
  {
   "cell_type": "markdown",
   "metadata": {},
   "source": [
    "### 🔍 Key Observations\n",
    "\n",
    "- Benin has the highest GHI median.\n",
    "- Sierra Leone exhibits the lowest solar radiation.\n",
    "- The differences are statistically significant (p < 0.05).\n"
   ]
  }
 ],
 "metadata": {
  "language_info": {
   "name": "python"
  }
 },
 "nbformat": 4,
 "nbformat_minor": 2
}
